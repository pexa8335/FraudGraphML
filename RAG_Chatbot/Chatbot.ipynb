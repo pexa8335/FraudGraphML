{
 "cells": [
  {
   "cell_type": "code",
   "execution_count": null,
   "id": "b72a64d8",
   "metadata": {},
   "outputs": [],
   "source": [
    "import pandas as pd\n",
    "from langchain.docstore.document import Document\n",
    "from langchain.text_splitter import RecursiveCharacterTextSplitter\n",
    "from langchain_huggingface import HuggingFaceEmbeddings\n",
    "from langchain_community.vectorstores.utils import DistanceStrategy\n",
    "from langchain_community.vectorstores import FAISS\n",
    "from transformers import AutoTokenizer\n",
    "import joblib # Để tải mô hình ML\n",
    "import numpy as np # Để xử lý output xAI"
   ]
  }
 ],
 "metadata": {
  "kernelspec": {
   "display_name": "lightning_env",
   "language": "python",
   "name": "python3"
  },
  "language_info": {
   "name": "python",
   "version": "3.10.16"
  }
 },
 "nbformat": 4,
 "nbformat_minor": 5
}
